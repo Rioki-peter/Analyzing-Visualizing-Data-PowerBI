{
  "nbformat": 4,
  "nbformat_minor": 0,
  "metadata": {
    "colab": {
      "name": "Copy of Anonymous_functions.ipynb",
      "provenance": [],
      "collapsed_sections": [],
      "include_colab_link": true
    },
    "kernelspec": {
      "name": "python3",
      "display_name": "Python 3"
    },
    "language_info": {
      "name": "python"
    }
  },
  "cells": [
    {
      "cell_type": "markdown",
      "metadata": {
        "id": "view-in-github",
        "colab_type": "text"
      },
      "source": [
        "<a href=\"https://colab.research.google.com/github/Rioki-peter/Analyzing-Visualizing-Data-PowerBI/blob/master/Copy_of_Anonymous_functions.ipynb\" target=\"_parent\"><img src=\"https://colab.research.google.com/assets/colab-badge.svg\" alt=\"Open In Colab\"/></a>"
      ]
    },
    {
      "cell_type": "markdown",
      "metadata": {
        "id": "vY9SMZejqS50"
      },
      "source": [
        "##Lambda (Anonymous Function)"
      ]
    },
    {
      "cell_type": "code",
      "metadata": {
        "colab": {
          "base_uri": "https://localhost:8080/"
        },
        "id": "-z1g_svRs1Yu",
        "outputId": "7e68bb84-6535-4f57-d1d6-adc92a09668f"
      },
      "source": [
        "(lambda x,y: x*y)(20,30)"
      ],
      "execution_count": null,
      "outputs": [
        {
          "output_type": "execute_result",
          "data": {
            "text/plain": [
              "600"
            ]
          },
          "metadata": {
            "tags": []
          },
          "execution_count": 2
        }
      ]
    },
    {
      "cell_type": "code",
      "metadata": {
        "id": "7VJsiPlu-jtO",
        "colab": {
          "base_uri": "https://localhost:8080/"
        },
        "outputId": "620ca67d-297b-457a-84b0-4862cc83758c"
      },
      "source": [
        "(lambda x: x)(20)"
      ],
      "execution_count": null,
      "outputs": [
        {
          "output_type": "execute_result",
          "data": {
            "text/plain": [
              "20"
            ]
          },
          "metadata": {
            "tags": []
          },
          "execution_count": 3
        }
      ]
    },
    {
      "cell_type": "code",
      "metadata": {
        "id": "xn6UMfshF8zd"
      },
      "source": [
        ""
      ],
      "execution_count": null,
      "outputs": []
    },
    {
      "cell_type": "code",
      "metadata": {
        "colab": {
          "base_uri": "https://localhost:8080/"
        },
        "id": "o2aqp7YEs1bv",
        "outputId": "31a26690-9b28-4105-e8d9-c9d56bf18caa"
      },
      "source": [
        "#Function without lambda\n",
        "def sq(x):\n",
        "  sqr=x*x\n",
        "  return sqr\n",
        "sq(20)"
      ],
      "execution_count": null,
      "outputs": [
        {
          "output_type": "execute_result",
          "data": {
            "text/plain": [
              "400"
            ]
          },
          "metadata": {
            "tags": []
          },
          "execution_count": 2
        }
      ]
    },
    {
      "cell_type": "code",
      "metadata": {
        "colab": {
          "base_uri": "https://localhost:8080/"
        },
        "id": "2FXbTjWPF_l7",
        "outputId": "351fe127-281d-4cd5-c0d6-30d7afff147b"
      },
      "source": [
        "(lambda A,K: A%K)(900,15)"
      ],
      "execution_count": null,
      "outputs": [
        {
          "output_type": "execute_result",
          "data": {
            "text/plain": [
              "0"
            ]
          },
          "metadata": {
            "tags": []
          },
          "execution_count": 4
        }
      ]
    },
    {
      "cell_type": "code",
      "metadata": {
        "colab": {
          "base_uri": "https://localhost:8080/"
        },
        "id": "MGIZtldsHDH_",
        "outputId": "a7f4c303-3abb-422d-d97b-08fde1e0ac31"
      },
      "source": [
        "y=lambda vic,paul:vic%paul\n",
        "y(100,17)"
      ],
      "execution_count": null,
      "outputs": [
        {
          "output_type": "execute_result",
          "data": {
            "text/plain": [
              "15"
            ]
          },
          "metadata": {
            "tags": []
          },
          "execution_count": 2
        }
      ]
    },
    {
      "cell_type": "markdown",
      "metadata": {
        "id": "6rEeni3qHbOP"
      },
      "source": [
        "**Use lambda function to find  600 power 6**"
      ]
    },
    {
      "cell_type": "code",
      "metadata": {
        "colab": {
          "base_uri": "https://localhost:8080/"
        },
        "id": "ccBjnqOZH6OS",
        "outputId": "c8f695a2-2be4-42b6-b0b8-5473d91fb53d"
      },
      "source": [
        "(lambda x,y: x//y)(600,13)"
      ],
      "execution_count": null,
      "outputs": [
        {
          "output_type": "execute_result",
          "data": {
            "text/plain": [
              "46"
            ]
          },
          "metadata": {
            "tags": []
          },
          "execution_count": 3
        }
      ]
    },
    {
      "cell_type": "code",
      "metadata": {
        "colab": {
          "base_uri": "https://localhost:8080/"
        },
        "id": "nGxilkJX8_rS",
        "outputId": "36e4ffc7-43f5-4d01-8e72-b6a4ddd98b1a"
      },
      "source": [
        "f = lambda x, y : x + y\n",
        "f(5,7)"
      ],
      "execution_count": null,
      "outputs": [
        {
          "output_type": "execute_result",
          "data": {
            "text/plain": [
              "12"
            ]
          },
          "metadata": {
            "tags": []
          },
          "execution_count": 15
        }
      ]
    },
    {
      "cell_type": "code",
      "metadata": {
        "colab": {
          "base_uri": "https://localhost:8080/"
        },
        "id": "BxlhTiGO8_vv",
        "outputId": "01863d9c-0c2a-46b4-875e-7a2cb17a63db"
      },
      "source": [
        "lambda_cube = lambda y: y*y*y\n",
        "print(lambda_cube(10))"
      ],
      "execution_count": null,
      "outputs": [
        {
          "output_type": "stream",
          "text": [
            "1000\n"
          ],
          "name": "stdout"
        }
      ]
    },
    {
      "cell_type": "code",
      "metadata": {
        "colab": {
          "base_uri": "https://localhost:8080/"
        },
        "id": "sBSCRTsEAbWi",
        "outputId": "a71e8afe-f856-4f50-ed66-3756ec11fb24"
      },
      "source": [
        "600**6"
      ],
      "execution_count": null,
      "outputs": [
        {
          "output_type": "execute_result",
          "data": {
            "text/plain": [
              "46656000000000000"
            ]
          },
          "metadata": {
            "tags": []
          },
          "execution_count": 5
        }
      ]
    },
    {
      "cell_type": "markdown",
      "metadata": {
        "id": "h6HBAdj7q8wP"
      },
      "source": [
        "## Map()"
      ]
    },
    {
      "cell_type": "code",
      "metadata": {
        "id": "uiASRmrbKkCU"
      },
      "source": [
        "# use of lambda() function\n",
        "# with map() function"
      ],
      "execution_count": null,
      "outputs": []
    },
    {
      "cell_type": "code",
      "metadata": {
        "colab": {
          "base_uri": "https://localhost:8080/"
        },
        "id": "soNesFk3Au5g",
        "outputId": "50ab268e-f0c9-4bdf-c63c-da2a2422d17f"
      },
      "source": [
        "items = [1, 2, 3, 4, 5]\n",
        "sq=list(map(lambda x:x**2, items))\n",
        "sq"
      ],
      "execution_count": null,
      "outputs": [
        {
          "output_type": "execute_result",
          "data": {
            "text/plain": [
              "[1, 4, 9, 16, 25]"
            ]
          },
          "metadata": {
            "tags": []
          },
          "execution_count": 7
        }
      ]
    },
    {
      "cell_type": "code",
      "metadata": {
        "id": "oaOiLELBBM51"
      },
      "source": [
        "vals=list(range(10,50))\n",
        "# 25 in each value"
      ],
      "execution_count": null,
      "outputs": []
    },
    {
      "cell_type": "code",
      "metadata": {
        "colab": {
          "base_uri": "https://localhost:8080/"
        },
        "id": "ix6xiQH6NMWF",
        "outputId": "30f3d943-0b33-4a71-eac2-3da3dc2aa398"
      },
      "source": [
        "items = [1, 2, 3, 4, 5]\n",
        "squared = list(map(lambda x: x**2, items))\n",
        "squared"
      ],
      "execution_count": null,
      "outputs": [
        {
          "output_type": "execute_result",
          "data": {
            "text/plain": [
              "[1, 4, 9, 16, 25]"
            ]
          },
          "metadata": {
            "tags": []
          },
          "execution_count": 41
        }
      ]
    },
    {
      "cell_type": "code",
      "metadata": {
        "colab": {
          "base_uri": "https://localhost:8080/"
        },
        "id": "CXrCWxshKu3p",
        "outputId": "e2d2ce0d-9af3-48ef-a044-b041d33709fb"
      },
      "source": [
        "lists=[12,13,15,17]\n",
        "scalar1=list(map(lambda k:k*5, lists))\n",
        "scalar1"
      ],
      "execution_count": null,
      "outputs": [
        {
          "output_type": "execute_result",
          "data": {
            "text/plain": [
              "[60, 65, 75, 85]"
            ]
          },
          "metadata": {
            "tags": []
          },
          "execution_count": 7
        }
      ]
    },
    {
      "cell_type": "code",
      "metadata": {
        "colab": {
          "base_uri": "https://localhost:8080/"
        },
        "id": "72CtGKtbLXkG",
        "outputId": "de5285da-b4b6-44be-9671-48cc3b11f703"
      },
      "source": [
        "list(map(lambda dough: dough**4, lists))"
      ],
      "execution_count": null,
      "outputs": [
        {
          "output_type": "execute_result",
          "data": {
            "text/plain": [
              "[20736, 28561, 50625, 83521]"
            ]
          },
          "metadata": {
            "tags": []
          },
          "execution_count": 8
        }
      ]
    },
    {
      "cell_type": "code",
      "metadata": {
        "colab": {
          "base_uri": "https://localhost:8080/"
        },
        "id": "qQY2UGOSM1Xx",
        "outputId": "cb903f5c-7565-4f1c-f89d-4d71e1df8756"
      },
      "source": [
        "##Function without map()\n",
        "items = [1, 2, 3, 4, 5]\n",
        "squared = []\n",
        "for i in items:\n",
        "    squared.append(i**2)\n",
        "print(squared)"
      ],
      "execution_count": null,
      "outputs": [
        {
          "output_type": "stream",
          "text": [
            "[1, 4, 9, 16, 25]\n"
          ],
          "name": "stdout"
        }
      ]
    },
    {
      "cell_type": "code",
      "metadata": {
        "colab": {
          "base_uri": "https://localhost:8080/"
        },
        "id": "QC22-jKts2My",
        "outputId": "a72b2955-e1f7-4204-a9f1-bcb08c16d1fe"
      },
      "source": [
        "my_num=list(range(13))\n",
        "list(map(float, my_num))"
      ],
      "execution_count": null,
      "outputs": [
        {
          "output_type": "execute_result",
          "data": {
            "text/plain": [
              "[0.0, 1.0, 2.0, 3.0, 4.0, 5.0, 6.0, 7.0, 8.0, 9.0, 10.0, 11.0, 12.0]"
            ]
          },
          "metadata": {
            "tags": []
          },
          "execution_count": 9
        }
      ]
    },
    {
      "cell_type": "code",
      "metadata": {
        "colab": {
          "base_uri": "https://localhost:8080/"
        },
        "id": "GcUqE7JZMA-B",
        "outputId": "994073da-5352-44c3-84ab-f6689938ea06"
      },
      "source": [
        "names=['ZALEGO','ZALDA','STEPWISE','COMPANY']\n",
        "list(map(str.lower, names))"
      ],
      "execution_count": null,
      "outputs": [
        {
          "output_type": "execute_result",
          "data": {
            "text/plain": [
              "['zalego', 'zalda', 'stepwise', 'company']"
            ]
          },
          "metadata": {
            "tags": []
          },
          "execution_count": 10
        }
      ]
    },
    {
      "cell_type": "markdown",
      "metadata": {
        "id": "IUMrezohDPY-"
      },
      "source": [
        "KEth, PaUl, booK, pEn"
      ]
    },
    {
      "cell_type": "code",
      "metadata": {
        "colab": {
          "base_uri": "https://localhost:8080/"
        },
        "id": "ocaiTwaFMmcC",
        "outputId": "d0777b85-39cb-4305-a0b3-41e00d6932ad"
      },
      "source": [
        "list(map(lambda w:str.lower(w), names))"
      ],
      "execution_count": null,
      "outputs": [
        {
          "output_type": "execute_result",
          "data": {
            "text/plain": [
              "['zalego', 'zalda', 'stepwise', 'company']"
            ]
          },
          "metadata": {
            "tags": []
          },
          "execution_count": 12
        }
      ]
    },
    {
      "cell_type": "code",
      "metadata": {
        "colab": {
          "base_uri": "https://localhost:8080/"
        },
        "id": "JCePbX_4s2Q7",
        "outputId": "27a881cc-b85c-4522-c304-d5d27bb8603e"
      },
      "source": [
        "animals = ['dog', 'cat', 'parrot', 'rabbit']\n",
        " \n",
        "# here we intend to change all animal names\n",
        "# to upper case and return the same\n",
        "uppered_animals = list(map(lambda animal: str.upper(animal), animals))\n",
        " \n",
        "print(uppered_animals)"
      ],
      "execution_count": null,
      "outputs": [
        {
          "output_type": "stream",
          "text": [
            "['DOG', 'CAT', 'PARROT', 'RABBIT']\n"
          ],
          "name": "stdout"
        }
      ]
    },
    {
      "cell_type": "code",
      "metadata": {
        "colab": {
          "base_uri": "https://localhost:8080/"
        },
        "id": "AUc62fn4Ktii",
        "outputId": "32f55214-5532-43e7-86f7-0cb279b95b4e"
      },
      "source": [
        "## def function without map\n",
        "my_pets = ['alfred', 'tabitha', 'william', 'arla']\n",
        "uppered_pets = []\n",
        "\n",
        "for pet in my_pets:\n",
        "    pet_ = pet.upper()\n",
        "    uppered_pets.append(pet_)\n",
        "\n",
        "print(uppered_pets)"
      ],
      "execution_count": null,
      "outputs": [
        {
          "output_type": "stream",
          "text": [
            "['ALFRED', 'TABITHA', 'WILLIAM', 'ARLA']\n"
          ],
          "name": "stdout"
        }
      ]
    },
    {
      "cell_type": "code",
      "metadata": {
        "colab": {
          "base_uri": "https://localhost:8080/"
        },
        "id": "ZuhvHf42K6ez",
        "outputId": "f7de3e6b-3c07-4c98-b6b9-fcdf0d86230b"
      },
      "source": [
        "## Using map\n",
        "my_pets = ['Alfred', 'tabitha', 'william', 'arla']\n",
        "\n",
        "uppered_pets = list(map(str.upper, my_pets))\n",
        "\n",
        "print(uppered_pets)"
      ],
      "execution_count": null,
      "outputs": [
        {
          "output_type": "stream",
          "text": [
            "['ALFRED', 'TABITHA', 'WILLIAM', 'ARLA']\n"
          ],
          "name": "stdout"
        }
      ]
    },
    {
      "cell_type": "code",
      "metadata": {
        "colab": {
          "base_uri": "https://localhost:8080/"
        },
        "id": "EUEosadMRHib",
        "outputId": "2531d397-f675-4eb6-8e34-573c3849acfa"
      },
      "source": [
        "anlist=['Croatia', 'Portugal', 'France', 'Germany', 'netherlands', 'england', 'spain']\n",
        "list(map(str.upper, anlist))\n"
      ],
      "execution_count": null,
      "outputs": [
        {
          "output_type": "execute_result",
          "data": {
            "text/plain": [
              "['CROATIA', 'PORTUGAL', 'FRANCE', 'GERMANY', 'NETHERLANDS', 'ENGLAND', 'SPAIN']"
            ]
          },
          "metadata": {
            "tags": []
          },
          "execution_count": 16
        }
      ]
    },
    {
      "cell_type": "markdown",
      "metadata": {
        "id": "ga-SBbDGEbjQ"
      },
      "source": [
        "a = [1,2,3,4]\n",
        "\n",
        "b = [17,12,11,10]\n",
        "\n",
        "c = [-1,-4,5,9]"
      ]
    },
    {
      "cell_type": "code",
      "metadata": {
        "colab": {
          "base_uri": "https://localhost:8080/"
        },
        "id": "vK1V4-5hGhoX",
        "outputId": "0583fa18-a80f-4c9f-fb09-36647077ee47"
      },
      "source": [
        "a = [1,2,3,4]\n",
        "b = [17,12,11,10]\n",
        "c = [-1,-4,5,9]\n",
        "list(map(lambda x,y:x+y, a,b))"
      ],
      "execution_count": null,
      "outputs": [
        {
          "output_type": "execute_result",
          "data": {
            "text/plain": [
              "[18, 14, 14, 14]"
            ]
          },
          "metadata": {
            "tags": []
          },
          "execution_count": 28
        }
      ]
    },
    {
      "cell_type": "code",
      "metadata": {
        "id": "th7vNlqwNm5V"
      },
      "source": [
        "x=[77,55,34,40]\n",
        "y=[221, 57, 90,57]\n",
        "z=[79,31,19,107]\n"
      ],
      "execution_count": null,
      "outputs": []
    },
    {
      "cell_type": "markdown",
      "metadata": {
        "id": "-7NyaIjLOEbZ"
      },
      "source": [
        "**use map function find sum od y and z, x and y &  x,y,z**"
      ]
    },
    {
      "cell_type": "code",
      "metadata": {
        "id": "NquAzf6iGsZO"
      },
      "source": [
        "list(map(lambda x,y,z:x+y+z, a,b,c))"
      ],
      "execution_count": null,
      "outputs": []
    },
    {
      "cell_type": "code",
      "metadata": {
        "id": "MtvPlflYGvjl"
      },
      "source": [
        "list(map(lambda x,y,z:x+y-z, a,b,c))"
      ],
      "execution_count": null,
      "outputs": []
    },
    {
      "cell_type": "code",
      "metadata": {
        "colab": {
          "base_uri": "https://localhost:8080/"
        },
        "id": "mXxamx2tJfTH",
        "outputId": "51c93b29-47ee-4a7a-a4ff-46222958afef"
      },
      "source": [
        "\n",
        "my_floats = [4.35, 6.09, 3.25, 9.77, 2.16, 8.88, 4.59]\n",
        "map_result = list(map(lambda x: round(x ** 2, 3), my_floats))\n",
        "print(map_result)"
      ],
      "execution_count": null,
      "outputs": [
        {
          "output_type": "stream",
          "text": [
            "[18.922, 37.088, 10.562, 95.453, 4.666, 78.854, 21.068]\n"
          ],
          "name": "stdout"
        }
      ]
    },
    {
      "cell_type": "markdown",
      "metadata": {
        "id": "Aodwq8I8sjir"
      },
      "source": [
        "## Filter()"
      ]
    },
    {
      "cell_type": "code",
      "metadata": {
        "colab": {
          "base_uri": "https://localhost:8080/"
        },
        "id": "h5BTkJpus3Or",
        "outputId": "5987c38f-bac4-44b5-f514-a2a80883a4d3"
      },
      "source": [
        "places=['Jubaland','Kangemi','Westlands','Emabakazi','Mlolongo','Landova','Kibera','Juba', 'Kismayu and Kaimosi']\n",
        "list(filter(lambda k: 'and' in k, places))"
      ],
      "execution_count": null,
      "outputs": [
        {
          "output_type": "execute_result",
          "data": {
            "text/plain": [
              "['Jubaland', 'Westlands', 'Landova', 'Kismayu and Kaimosi']"
            ]
          },
          "metadata": {
            "tags": []
          },
          "execution_count": 17
        }
      ]
    },
    {
      "cell_type": "code",
      "metadata": {
        "colab": {
          "base_uri": "https://localhost:8080/"
        },
        "id": "733zevBzE_5t",
        "outputId": "57449bb8-05fe-4355-cc49-244f58a8a098"
      },
      "source": [
        "dict_a = [{'name': 'python', 'points': 10}, {'name': 'java', 'points': 8}]\n",
        "\n",
        "list(filter(lambda x : x['name'] == 'python', dict_a))"
      ],
      "execution_count": null,
      "outputs": [
        {
          "output_type": "execute_result",
          "data": {
            "text/plain": [
              "[{'name': 'python', 'points': 10}]"
            ]
          },
          "metadata": {
            "tags": []
          },
          "execution_count": 24
        }
      ]
    },
    {
      "cell_type": "code",
      "metadata": {
        "colab": {
          "base_uri": "https://localhost:8080/"
        },
        "id": "JQ__jr4GGO8S",
        "outputId": "0b6c2b1c-ea0a-4627-8cc2-4dad3c0b03f3"
      },
      "source": [
        "number_list = range(-5, 5)\n",
        "less_than_zero = list(filter(lambda x: x < 0, number_list))\n",
        "print(less_than_zero)"
      ],
      "execution_count": null,
      "outputs": [
        {
          "output_type": "stream",
          "text": [
            "[-5, -4, -3, -2, -1]\n"
          ],
          "name": "stdout"
        }
      ]
    },
    {
      "cell_type": "code",
      "metadata": {
        "colab": {
          "base_uri": "https://localhost:8080/"
        },
        "id": "tQaS-OJaZlxs",
        "outputId": "c9a95c6d-9ebe-4a7b-c729-a6cc1050970f"
      },
      "source": [
        "odd=[10,11,12,13,25,37,168,121,134,229,400]\n",
        "list(filter(lambda k : k%2!=0,odd))"
      ],
      "execution_count": null,
      "outputs": [
        {
          "output_type": "execute_result",
          "data": {
            "text/plain": [
              "[11, 13, 25, 37, 121, 229]"
            ]
          },
          "metadata": {
            "tags": []
          },
          "execution_count": 18
        }
      ]
    },
    {
      "cell_type": "code",
      "metadata": {
        "colab": {
          "base_uri": "https://localhost:8080/"
        },
        "id": "ClilbSbRZm4Y",
        "outputId": "bf75ccb4-7ff6-4977-acd0-0ef8adab6b77"
      },
      "source": [
        "num=list(range(40,60))\n",
        "list(filter(lambda n: n>49, num))"
      ],
      "execution_count": null,
      "outputs": [
        {
          "output_type": "execute_result",
          "data": {
            "text/plain": [
              "[50, 51, 52, 53, 54, 55, 56, 57, 58, 59]"
            ]
          },
          "metadata": {},
          "execution_count": 1
        }
      ]
    },
    {
      "cell_type": "code",
      "metadata": {
        "colab": {
          "base_uri": "https://localhost:8080/"
        },
        "id": "aoeGKY7_F90F",
        "outputId": "1b6a61ba-bccb-47b9-b1ee-e25131ae0db5"
      },
      "source": [
        "!pip -V"
      ],
      "execution_count": null,
      "outputs": [
        {
          "output_type": "stream",
          "name": "stdout",
          "text": [
            "pip 21.1.3 from /usr/local/lib/python3.7/dist-packages/pip (python 3.7)\n"
          ]
        }
      ]
    },
    {
      "cell_type": "code",
      "metadata": {
        "colab": {
          "base_uri": "https://localhost:8080/"
        },
        "id": "uF2dyPfQFMDk",
        "outputId": "d648e48b-6f85-468d-a818-a4df6261e93f"
      },
      "source": [
        "x=list(range(100000, 300000))\n",
        "list(filter(lambda k : k%2!=0,x))"
      ],
      "execution_count": null,
      "outputs": [
        {
          "output_type": "execute_result",
          "data": {
            "text/plain": [
              "[100001,\n",
              " 100003,\n",
              " 100005,\n",
              " 100007,\n",
              " 100009,\n",
              " 100011,\n",
              " 100013,\n",
              " 100015,\n",
              " 100017,\n",
              " 100019,\n",
              " 100021,\n",
              " 100023,\n",
              " 100025,\n",
              " 100027,\n",
              " 100029,\n",
              " 100031,\n",
              " 100033,\n",
              " 100035,\n",
              " 100037,\n",
              " 100039,\n",
              " 100041,\n",
              " 100043,\n",
              " 100045,\n",
              " 100047,\n",
              " 100049,\n",
              " 100051,\n",
              " 100053,\n",
              " 100055,\n",
              " 100057,\n",
              " 100059,\n",
              " 100061,\n",
              " 100063,\n",
              " 100065,\n",
              " 100067,\n",
              " 100069,\n",
              " 100071,\n",
              " 100073,\n",
              " 100075,\n",
              " 100077,\n",
              " 100079,\n",
              " 100081,\n",
              " 100083,\n",
              " 100085,\n",
              " 100087,\n",
              " 100089,\n",
              " 100091,\n",
              " 100093,\n",
              " 100095,\n",
              " 100097,\n",
              " 100099,\n",
              " 100101,\n",
              " 100103,\n",
              " 100105,\n",
              " 100107,\n",
              " 100109,\n",
              " 100111,\n",
              " 100113,\n",
              " 100115,\n",
              " 100117,\n",
              " 100119,\n",
              " 100121,\n",
              " 100123,\n",
              " 100125,\n",
              " 100127,\n",
              " 100129,\n",
              " 100131,\n",
              " 100133,\n",
              " 100135,\n",
              " 100137,\n",
              " 100139,\n",
              " 100141,\n",
              " 100143,\n",
              " 100145,\n",
              " 100147,\n",
              " 100149,\n",
              " 100151,\n",
              " 100153,\n",
              " 100155,\n",
              " 100157,\n",
              " 100159,\n",
              " 100161,\n",
              " 100163,\n",
              " 100165,\n",
              " 100167,\n",
              " 100169,\n",
              " 100171,\n",
              " 100173,\n",
              " 100175,\n",
              " 100177,\n",
              " 100179,\n",
              " 100181,\n",
              " 100183,\n",
              " 100185,\n",
              " 100187,\n",
              " 100189,\n",
              " 100191,\n",
              " 100193,\n",
              " 100195,\n",
              " 100197,\n",
              " 100199,\n",
              " 100201,\n",
              " 100203,\n",
              " 100205,\n",
              " 100207,\n",
              " 100209,\n",
              " 100211,\n",
              " 100213,\n",
              " 100215,\n",
              " 100217,\n",
              " 100219,\n",
              " 100221,\n",
              " 100223,\n",
              " 100225,\n",
              " 100227,\n",
              " 100229,\n",
              " 100231,\n",
              " 100233,\n",
              " 100235,\n",
              " 100237,\n",
              " 100239,\n",
              " 100241,\n",
              " 100243,\n",
              " 100245,\n",
              " 100247,\n",
              " 100249,\n",
              " 100251,\n",
              " 100253,\n",
              " 100255,\n",
              " 100257,\n",
              " 100259,\n",
              " 100261,\n",
              " 100263,\n",
              " 100265,\n",
              " 100267,\n",
              " 100269,\n",
              " 100271,\n",
              " 100273,\n",
              " 100275,\n",
              " 100277,\n",
              " 100279,\n",
              " 100281,\n",
              " 100283,\n",
              " 100285,\n",
              " 100287,\n",
              " 100289,\n",
              " 100291,\n",
              " 100293,\n",
              " 100295,\n",
              " 100297,\n",
              " 100299,\n",
              " 100301,\n",
              " 100303,\n",
              " 100305,\n",
              " 100307,\n",
              " 100309,\n",
              " 100311,\n",
              " 100313,\n",
              " 100315,\n",
              " 100317,\n",
              " 100319,\n",
              " 100321,\n",
              " 100323,\n",
              " 100325,\n",
              " 100327,\n",
              " 100329,\n",
              " 100331,\n",
              " 100333,\n",
              " 100335,\n",
              " 100337,\n",
              " 100339,\n",
              " 100341,\n",
              " 100343,\n",
              " 100345,\n",
              " 100347,\n",
              " 100349,\n",
              " 100351,\n",
              " 100353,\n",
              " 100355,\n",
              " 100357,\n",
              " 100359,\n",
              " 100361,\n",
              " 100363,\n",
              " 100365,\n",
              " 100367,\n",
              " 100369,\n",
              " 100371,\n",
              " 100373,\n",
              " 100375,\n",
              " 100377,\n",
              " 100379,\n",
              " 100381,\n",
              " 100383,\n",
              " 100385,\n",
              " 100387,\n",
              " 100389,\n",
              " 100391,\n",
              " 100393,\n",
              " 100395,\n",
              " 100397,\n",
              " 100399,\n",
              " 100401,\n",
              " 100403,\n",
              " 100405,\n",
              " 100407,\n",
              " 100409,\n",
              " 100411,\n",
              " 100413,\n",
              " 100415,\n",
              " 100417,\n",
              " 100419,\n",
              " 100421,\n",
              " 100423,\n",
              " 100425,\n",
              " 100427,\n",
              " 100429,\n",
              " 100431,\n",
              " 100433,\n",
              " 100435,\n",
              " 100437,\n",
              " 100439,\n",
              " 100441,\n",
              " 100443,\n",
              " 100445,\n",
              " 100447,\n",
              " 100449,\n",
              " 100451,\n",
              " 100453,\n",
              " 100455,\n",
              " 100457,\n",
              " 100459,\n",
              " 100461,\n",
              " 100463,\n",
              " 100465,\n",
              " 100467,\n",
              " 100469,\n",
              " 100471,\n",
              " 100473,\n",
              " 100475,\n",
              " 100477,\n",
              " 100479,\n",
              " 100481,\n",
              " 100483,\n",
              " 100485,\n",
              " 100487,\n",
              " 100489,\n",
              " 100491,\n",
              " 100493,\n",
              " 100495,\n",
              " 100497,\n",
              " 100499,\n",
              " 100501,\n",
              " 100503,\n",
              " 100505,\n",
              " 100507,\n",
              " 100509,\n",
              " 100511,\n",
              " 100513,\n",
              " 100515,\n",
              " 100517,\n",
              " 100519,\n",
              " 100521,\n",
              " 100523,\n",
              " 100525,\n",
              " 100527,\n",
              " 100529,\n",
              " 100531,\n",
              " 100533,\n",
              " 100535,\n",
              " 100537,\n",
              " 100539,\n",
              " 100541,\n",
              " 100543,\n",
              " 100545,\n",
              " 100547,\n",
              " 100549,\n",
              " 100551,\n",
              " 100553,\n",
              " 100555,\n",
              " 100557,\n",
              " 100559,\n",
              " 100561,\n",
              " 100563,\n",
              " 100565,\n",
              " 100567,\n",
              " 100569,\n",
              " 100571,\n",
              " 100573,\n",
              " 100575,\n",
              " 100577,\n",
              " 100579,\n",
              " 100581,\n",
              " 100583,\n",
              " 100585,\n",
              " 100587,\n",
              " 100589,\n",
              " 100591,\n",
              " 100593,\n",
              " 100595,\n",
              " 100597,\n",
              " 100599,\n",
              " 100601,\n",
              " 100603,\n",
              " 100605,\n",
              " 100607,\n",
              " 100609,\n",
              " 100611,\n",
              " 100613,\n",
              " 100615,\n",
              " 100617,\n",
              " 100619,\n",
              " 100621,\n",
              " 100623,\n",
              " 100625,\n",
              " 100627,\n",
              " 100629,\n",
              " 100631,\n",
              " 100633,\n",
              " 100635,\n",
              " 100637,\n",
              " 100639,\n",
              " 100641,\n",
              " 100643,\n",
              " 100645,\n",
              " 100647,\n",
              " 100649,\n",
              " 100651,\n",
              " 100653,\n",
              " 100655,\n",
              " 100657,\n",
              " 100659,\n",
              " 100661,\n",
              " 100663,\n",
              " 100665,\n",
              " 100667,\n",
              " 100669,\n",
              " 100671,\n",
              " 100673,\n",
              " 100675,\n",
              " 100677,\n",
              " 100679,\n",
              " 100681,\n",
              " 100683,\n",
              " 100685,\n",
              " 100687,\n",
              " 100689,\n",
              " 100691,\n",
              " 100693,\n",
              " 100695,\n",
              " 100697,\n",
              " 100699,\n",
              " 100701,\n",
              " 100703,\n",
              " 100705,\n",
              " 100707,\n",
              " 100709,\n",
              " 100711,\n",
              " 100713,\n",
              " 100715,\n",
              " 100717,\n",
              " 100719,\n",
              " 100721,\n",
              " 100723,\n",
              " 100725,\n",
              " 100727,\n",
              " 100729,\n",
              " 100731,\n",
              " 100733,\n",
              " 100735,\n",
              " 100737,\n",
              " 100739,\n",
              " 100741,\n",
              " 100743,\n",
              " 100745,\n",
              " 100747,\n",
              " 100749,\n",
              " 100751,\n",
              " 100753,\n",
              " 100755,\n",
              " 100757,\n",
              " 100759,\n",
              " 100761,\n",
              " 100763,\n",
              " 100765,\n",
              " 100767,\n",
              " 100769,\n",
              " 100771,\n",
              " 100773,\n",
              " 100775,\n",
              " 100777,\n",
              " 100779,\n",
              " 100781,\n",
              " 100783,\n",
              " 100785,\n",
              " 100787,\n",
              " 100789,\n",
              " 100791,\n",
              " 100793,\n",
              " 100795,\n",
              " 100797,\n",
              " 100799,\n",
              " 100801,\n",
              " 100803,\n",
              " 100805,\n",
              " 100807,\n",
              " 100809,\n",
              " 100811,\n",
              " 100813,\n",
              " 100815,\n",
              " 100817,\n",
              " 100819,\n",
              " 100821,\n",
              " 100823,\n",
              " 100825,\n",
              " 100827,\n",
              " 100829,\n",
              " 100831,\n",
              " 100833,\n",
              " 100835,\n",
              " 100837,\n",
              " 100839,\n",
              " 100841,\n",
              " 100843,\n",
              " 100845,\n",
              " 100847,\n",
              " 100849,\n",
              " 100851,\n",
              " 100853,\n",
              " 100855,\n",
              " 100857,\n",
              " 100859,\n",
              " 100861,\n",
              " 100863,\n",
              " 100865,\n",
              " 100867,\n",
              " 100869,\n",
              " 100871,\n",
              " 100873,\n",
              " 100875,\n",
              " 100877,\n",
              " 100879,\n",
              " 100881,\n",
              " 100883,\n",
              " 100885,\n",
              " 100887,\n",
              " 100889,\n",
              " 100891,\n",
              " 100893,\n",
              " 100895,\n",
              " 100897,\n",
              " 100899,\n",
              " 100901,\n",
              " 100903,\n",
              " 100905,\n",
              " 100907,\n",
              " 100909,\n",
              " 100911,\n",
              " 100913,\n",
              " 100915,\n",
              " 100917,\n",
              " 100919,\n",
              " 100921,\n",
              " 100923,\n",
              " 100925,\n",
              " 100927,\n",
              " 100929,\n",
              " 100931,\n",
              " 100933,\n",
              " 100935,\n",
              " 100937,\n",
              " 100939,\n",
              " 100941,\n",
              " 100943,\n",
              " 100945,\n",
              " 100947,\n",
              " 100949,\n",
              " 100951,\n",
              " 100953,\n",
              " 100955,\n",
              " 100957,\n",
              " 100959,\n",
              " 100961,\n",
              " 100963,\n",
              " 100965,\n",
              " 100967,\n",
              " 100969,\n",
              " 100971,\n",
              " 100973,\n",
              " 100975,\n",
              " 100977,\n",
              " 100979,\n",
              " 100981,\n",
              " 100983,\n",
              " 100985,\n",
              " 100987,\n",
              " 100989,\n",
              " 100991,\n",
              " 100993,\n",
              " 100995,\n",
              " 100997,\n",
              " 100999,\n",
              " 101001,\n",
              " 101003,\n",
              " 101005,\n",
              " 101007,\n",
              " 101009,\n",
              " 101011,\n",
              " 101013,\n",
              " 101015,\n",
              " 101017,\n",
              " 101019,\n",
              " 101021,\n",
              " 101023,\n",
              " 101025,\n",
              " 101027,\n",
              " 101029,\n",
              " 101031,\n",
              " 101033,\n",
              " 101035,\n",
              " 101037,\n",
              " 101039,\n",
              " 101041,\n",
              " 101043,\n",
              " 101045,\n",
              " 101047,\n",
              " 101049,\n",
              " 101051,\n",
              " 101053,\n",
              " 101055,\n",
              " 101057,\n",
              " 101059,\n",
              " 101061,\n",
              " 101063,\n",
              " 101065,\n",
              " 101067,\n",
              " 101069,\n",
              " 101071,\n",
              " 101073,\n",
              " 101075,\n",
              " 101077,\n",
              " 101079,\n",
              " 101081,\n",
              " 101083,\n",
              " 101085,\n",
              " 101087,\n",
              " 101089,\n",
              " 101091,\n",
              " 101093,\n",
              " 101095,\n",
              " 101097,\n",
              " 101099,\n",
              " 101101,\n",
              " 101103,\n",
              " 101105,\n",
              " 101107,\n",
              " 101109,\n",
              " 101111,\n",
              " 101113,\n",
              " 101115,\n",
              " 101117,\n",
              " 101119,\n",
              " 101121,\n",
              " 101123,\n",
              " 101125,\n",
              " 101127,\n",
              " 101129,\n",
              " 101131,\n",
              " 101133,\n",
              " 101135,\n",
              " 101137,\n",
              " 101139,\n",
              " 101141,\n",
              " 101143,\n",
              " 101145,\n",
              " 101147,\n",
              " 101149,\n",
              " 101151,\n",
              " 101153,\n",
              " 101155,\n",
              " 101157,\n",
              " 101159,\n",
              " 101161,\n",
              " 101163,\n",
              " 101165,\n",
              " 101167,\n",
              " 101169,\n",
              " 101171,\n",
              " 101173,\n",
              " 101175,\n",
              " 101177,\n",
              " 101179,\n",
              " 101181,\n",
              " 101183,\n",
              " 101185,\n",
              " 101187,\n",
              " 101189,\n",
              " 101191,\n",
              " 101193,\n",
              " 101195,\n",
              " 101197,\n",
              " 101199,\n",
              " 101201,\n",
              " 101203,\n",
              " 101205,\n",
              " 101207,\n",
              " 101209,\n",
              " 101211,\n",
              " 101213,\n",
              " 101215,\n",
              " 101217,\n",
              " 101219,\n",
              " 101221,\n",
              " 101223,\n",
              " 101225,\n",
              " 101227,\n",
              " 101229,\n",
              " 101231,\n",
              " 101233,\n",
              " 101235,\n",
              " 101237,\n",
              " 101239,\n",
              " 101241,\n",
              " 101243,\n",
              " 101245,\n",
              " 101247,\n",
              " 101249,\n",
              " 101251,\n",
              " 101253,\n",
              " 101255,\n",
              " 101257,\n",
              " 101259,\n",
              " 101261,\n",
              " 101263,\n",
              " 101265,\n",
              " 101267,\n",
              " 101269,\n",
              " 101271,\n",
              " 101273,\n",
              " 101275,\n",
              " 101277,\n",
              " 101279,\n",
              " 101281,\n",
              " 101283,\n",
              " 101285,\n",
              " 101287,\n",
              " 101289,\n",
              " 101291,\n",
              " 101293,\n",
              " 101295,\n",
              " 101297,\n",
              " 101299,\n",
              " 101301,\n",
              " 101303,\n",
              " 101305,\n",
              " 101307,\n",
              " 101309,\n",
              " 101311,\n",
              " 101313,\n",
              " 101315,\n",
              " 101317,\n",
              " 101319,\n",
              " 101321,\n",
              " 101323,\n",
              " 101325,\n",
              " 101327,\n",
              " 101329,\n",
              " 101331,\n",
              " 101333,\n",
              " 101335,\n",
              " 101337,\n",
              " 101339,\n",
              " 101341,\n",
              " 101343,\n",
              " 101345,\n",
              " 101347,\n",
              " 101349,\n",
              " 101351,\n",
              " 101353,\n",
              " 101355,\n",
              " 101357,\n",
              " 101359,\n",
              " 101361,\n",
              " 101363,\n",
              " 101365,\n",
              " 101367,\n",
              " 101369,\n",
              " 101371,\n",
              " 101373,\n",
              " 101375,\n",
              " 101377,\n",
              " 101379,\n",
              " 101381,\n",
              " 101383,\n",
              " 101385,\n",
              " 101387,\n",
              " 101389,\n",
              " 101391,\n",
              " 101393,\n",
              " 101395,\n",
              " 101397,\n",
              " 101399,\n",
              " 101401,\n",
              " 101403,\n",
              " 101405,\n",
              " 101407,\n",
              " 101409,\n",
              " 101411,\n",
              " 101413,\n",
              " 101415,\n",
              " 101417,\n",
              " 101419,\n",
              " 101421,\n",
              " 101423,\n",
              " 101425,\n",
              " 101427,\n",
              " 101429,\n",
              " 101431,\n",
              " 101433,\n",
              " 101435,\n",
              " 101437,\n",
              " 101439,\n",
              " 101441,\n",
              " 101443,\n",
              " 101445,\n",
              " 101447,\n",
              " 101449,\n",
              " 101451,\n",
              " 101453,\n",
              " 101455,\n",
              " 101457,\n",
              " 101459,\n",
              " 101461,\n",
              " 101463,\n",
              " 101465,\n",
              " 101467,\n",
              " 101469,\n",
              " 101471,\n",
              " 101473,\n",
              " 101475,\n",
              " 101477,\n",
              " 101479,\n",
              " 101481,\n",
              " 101483,\n",
              " 101485,\n",
              " 101487,\n",
              " 101489,\n",
              " 101491,\n",
              " 101493,\n",
              " 101495,\n",
              " 101497,\n",
              " 101499,\n",
              " 101501,\n",
              " 101503,\n",
              " 101505,\n",
              " 101507,\n",
              " 101509,\n",
              " 101511,\n",
              " 101513,\n",
              " 101515,\n",
              " 101517,\n",
              " 101519,\n",
              " 101521,\n",
              " 101523,\n",
              " 101525,\n",
              " 101527,\n",
              " 101529,\n",
              " 101531,\n",
              " 101533,\n",
              " 101535,\n",
              " 101537,\n",
              " 101539,\n",
              " 101541,\n",
              " 101543,\n",
              " 101545,\n",
              " 101547,\n",
              " 101549,\n",
              " 101551,\n",
              " 101553,\n",
              " 101555,\n",
              " 101557,\n",
              " 101559,\n",
              " 101561,\n",
              " 101563,\n",
              " 101565,\n",
              " 101567,\n",
              " 101569,\n",
              " 101571,\n",
              " 101573,\n",
              " 101575,\n",
              " 101577,\n",
              " 101579,\n",
              " 101581,\n",
              " 101583,\n",
              " 101585,\n",
              " 101587,\n",
              " 101589,\n",
              " 101591,\n",
              " 101593,\n",
              " 101595,\n",
              " 101597,\n",
              " 101599,\n",
              " 101601,\n",
              " 101603,\n",
              " 101605,\n",
              " 101607,\n",
              " 101609,\n",
              " 101611,\n",
              " 101613,\n",
              " 101615,\n",
              " 101617,\n",
              " 101619,\n",
              " 101621,\n",
              " 101623,\n",
              " 101625,\n",
              " 101627,\n",
              " 101629,\n",
              " 101631,\n",
              " 101633,\n",
              " 101635,\n",
              " 101637,\n",
              " 101639,\n",
              " 101641,\n",
              " 101643,\n",
              " 101645,\n",
              " 101647,\n",
              " 101649,\n",
              " 101651,\n",
              " 101653,\n",
              " 101655,\n",
              " 101657,\n",
              " 101659,\n",
              " 101661,\n",
              " 101663,\n",
              " 101665,\n",
              " 101667,\n",
              " 101669,\n",
              " 101671,\n",
              " 101673,\n",
              " 101675,\n",
              " 101677,\n",
              " 101679,\n",
              " 101681,\n",
              " 101683,\n",
              " 101685,\n",
              " 101687,\n",
              " 101689,\n",
              " 101691,\n",
              " 101693,\n",
              " 101695,\n",
              " 101697,\n",
              " 101699,\n",
              " 101701,\n",
              " 101703,\n",
              " 101705,\n",
              " 101707,\n",
              " 101709,\n",
              " 101711,\n",
              " 101713,\n",
              " 101715,\n",
              " 101717,\n",
              " 101719,\n",
              " 101721,\n",
              " 101723,\n",
              " 101725,\n",
              " 101727,\n",
              " 101729,\n",
              " 101731,\n",
              " 101733,\n",
              " 101735,\n",
              " 101737,\n",
              " 101739,\n",
              " 101741,\n",
              " 101743,\n",
              " 101745,\n",
              " 101747,\n",
              " 101749,\n",
              " 101751,\n",
              " 101753,\n",
              " 101755,\n",
              " 101757,\n",
              " 101759,\n",
              " 101761,\n",
              " 101763,\n",
              " 101765,\n",
              " 101767,\n",
              " 101769,\n",
              " 101771,\n",
              " 101773,\n",
              " 101775,\n",
              " 101777,\n",
              " 101779,\n",
              " 101781,\n",
              " 101783,\n",
              " 101785,\n",
              " 101787,\n",
              " 101789,\n",
              " 101791,\n",
              " 101793,\n",
              " 101795,\n",
              " 101797,\n",
              " 101799,\n",
              " 101801,\n",
              " 101803,\n",
              " 101805,\n",
              " 101807,\n",
              " 101809,\n",
              " 101811,\n",
              " 101813,\n",
              " 101815,\n",
              " 101817,\n",
              " 101819,\n",
              " 101821,\n",
              " 101823,\n",
              " 101825,\n",
              " 101827,\n",
              " 101829,\n",
              " 101831,\n",
              " 101833,\n",
              " 101835,\n",
              " 101837,\n",
              " 101839,\n",
              " 101841,\n",
              " 101843,\n",
              " 101845,\n",
              " 101847,\n",
              " 101849,\n",
              " 101851,\n",
              " 101853,\n",
              " 101855,\n",
              " 101857,\n",
              " 101859,\n",
              " 101861,\n",
              " 101863,\n",
              " 101865,\n",
              " 101867,\n",
              " 101869,\n",
              " 101871,\n",
              " 101873,\n",
              " 101875,\n",
              " 101877,\n",
              " 101879,\n",
              " 101881,\n",
              " 101883,\n",
              " 101885,\n",
              " 101887,\n",
              " 101889,\n",
              " 101891,\n",
              " 101893,\n",
              " 101895,\n",
              " 101897,\n",
              " 101899,\n",
              " 101901,\n",
              " 101903,\n",
              " 101905,\n",
              " 101907,\n",
              " 101909,\n",
              " 101911,\n",
              " 101913,\n",
              " 101915,\n",
              " 101917,\n",
              " 101919,\n",
              " 101921,\n",
              " 101923,\n",
              " 101925,\n",
              " 101927,\n",
              " 101929,\n",
              " 101931,\n",
              " 101933,\n",
              " 101935,\n",
              " 101937,\n",
              " 101939,\n",
              " 101941,\n",
              " 101943,\n",
              " 101945,\n",
              " 101947,\n",
              " 101949,\n",
              " 101951,\n",
              " 101953,\n",
              " 101955,\n",
              " 101957,\n",
              " 101959,\n",
              " 101961,\n",
              " 101963,\n",
              " 101965,\n",
              " 101967,\n",
              " 101969,\n",
              " 101971,\n",
              " 101973,\n",
              " 101975,\n",
              " 101977,\n",
              " 101979,\n",
              " 101981,\n",
              " 101983,\n",
              " 101985,\n",
              " 101987,\n",
              " 101989,\n",
              " 101991,\n",
              " 101993,\n",
              " 101995,\n",
              " 101997,\n",
              " 101999,\n",
              " ...]"
            ]
          },
          "metadata": {},
          "execution_count": 2
        }
      ]
    },
    {
      "cell_type": "code",
      "metadata": {
        "colab": {
          "base_uri": "https://localhost:8080/"
        },
        "id": "E-g0uVimEpP8",
        "outputId": "887701e4-8945-4cc0-98fd-716b49138514"
      },
      "source": [
        "a = [1, 2, 3, 4, 5, 6]\n",
        "filter(lambda x : x % 2 == 0, a) "
      ],
      "execution_count": null,
      "outputs": [
        {
          "output_type": "execute_result",
          "data": {
            "text/plain": [
              "<filter at 0x7f8cb70b9410>"
            ]
          },
          "metadata": {
            "tags": []
          },
          "execution_count": 23
        }
      ]
    },
    {
      "cell_type": "code",
      "metadata": {
        "colab": {
          "base_uri": "https://localhost:8080/"
        },
        "id": "Sr-vOnx4Cwve",
        "outputId": "3fecad32-228e-4993-a068-a0ae26621c5b"
      },
      "source": [
        "# Python code to illustrate\n",
        "# filter() with lambda()\n",
        "li = [5, 7, 22, 97, 54, 62, 77, 23, 73, 61]\n",
        "final_list = list(filter(lambda x: (x%2 != 0) , li))\n",
        "print(final_list)"
      ],
      "execution_count": null,
      "outputs": [
        {
          "output_type": "stream",
          "name": "stdout",
          "text": [
            "[5, 7, 97, 77, 23, 73, 61]\n"
          ]
        }
      ]
    },
    {
      "cell_type": "code",
      "metadata": {
        "colab": {
          "base_uri": "https://localhost:8080/"
        },
        "id": "MJ_ytb-zJVLO",
        "outputId": "28863903-cc01-4090-d389-db1daedee391"
      },
      "source": [
        "my_names = [\"olumide\", \"akinremi\", \"josiah\", \"temidayo\", \"omoseun\"]\n",
        "\n",
        "filter_result = list(filter(lambda name: len(name) <= 7, my_names))\n",
        "print(filter_result)\n"
      ],
      "execution_count": null,
      "outputs": [
        {
          "output_type": "stream",
          "text": [
            "['olumide', 'josiah', 'omoseun']\n"
          ],
          "name": "stdout"
        }
      ]
    },
    {
      "cell_type": "code",
      "metadata": {
        "colab": {
          "base_uri": "https://localhost:8080/"
        },
        "id": "3IFdwsH_c1pR",
        "outputId": "b375318f-d28c-4430-e5bc-bee54924391a"
      },
      "source": [
        "a=[1,2,3,4,5]\n",
        "a[-1]"
      ],
      "execution_count": null,
      "outputs": [
        {
          "output_type": "execute_result",
          "data": {
            "text/plain": [
              "5"
            ]
          },
          "metadata": {
            "tags": []
          },
          "execution_count": 26
        }
      ]
    },
    {
      "cell_type": "markdown",
      "metadata": {
        "id": "Dvk_rBGMbMni"
      },
      "source": [
        "**write a python code which filter out any number not divisible by 7 in a list range between 3 and 90 (hint use filter()**"
      ]
    },
    {
      "cell_type": "markdown",
      "metadata": {
        "id": "aWh08CvoIiFD"
      },
      "source": [
        "The next example will be a palindrome detector. A \"palindrome\" is a word, phrase, or sequence that reads the same backwards as forwards. Let's filter out words that are palindromes from a tuple (iterable) of suspected palindromes."
      ]
    },
    {
      "cell_type": "code",
      "metadata": {
        "colab": {
          "base_uri": "https://localhost:8080/"
        },
        "id": "W9MUFafkCxGK",
        "outputId": "491c62ae-e450-4e64-9a46-b073452a3145"
      },
      "source": [
        "dromes = (\"demigod\", \"rewire\", \"madam\", \"freer\", \"anutforajaroftuna\", \"kiosk\",'mom','dad')\n",
        "\n",
        "palindromes = list(filter(lambda w: w == w[::-1], dromes))\n",
        "\n",
        "print(palindromes)"
      ],
      "execution_count": null,
      "outputs": [
        {
          "output_type": "stream",
          "text": [
            "['madam', 'anutforajaroftuna', 'mom', 'dad']\n"
          ],
          "name": "stdout"
        }
      ]
    },
    {
      "cell_type": "markdown",
      "metadata": {
        "id": "zMowmu4-sn35"
      },
      "source": [
        "## Reduce()"
      ]
    },
    {
      "cell_type": "code",
      "metadata": {
        "id": "qlp6uHAZPZ4Q",
        "colab": {
          "base_uri": "https://localhost:8080/"
        },
        "outputId": "aa99167d-cae6-48f3-b278-8904102f4ad6"
      },
      "source": [
        "!pip install functools"
      ],
      "execution_count": null,
      "outputs": [
        {
          "output_type": "stream",
          "name": "stdout",
          "text": [
            "Collecting functools\n",
            "  Using cached functools-0.5.tar.gz (4.9 kB)\n",
            "Building wheels for collected packages: functools\n",
            "  Building wheel for functools (setup.py) ... \u001b[?25lerror\n",
            "\u001b[31m  ERROR: Failed building wheel for functools\u001b[0m\n",
            "\u001b[?25h  Running setup.py clean for functools\n",
            "Failed to build functools\n",
            "Installing collected packages: functools\n",
            "    Running setup.py install for functools ... \u001b[?25l\u001b[?25herror\n",
            "\u001b[31mERROR: Command errored out with exit status 1: /usr/bin/python3 -u -c 'import io, os, sys, setuptools, tokenize; sys.argv[0] = '\"'\"'/tmp/pip-install-_l68y4mk/functools_48fbb73bbdc04629be9b9d1471b1b074/setup.py'\"'\"'; __file__='\"'\"'/tmp/pip-install-_l68y4mk/functools_48fbb73bbdc04629be9b9d1471b1b074/setup.py'\"'\"';f = getattr(tokenize, '\"'\"'open'\"'\"', open)(__file__) if os.path.exists(__file__) else io.StringIO('\"'\"'from setuptools import setup; setup()'\"'\"');code = f.read().replace('\"'\"'\\r\\n'\"'\"', '\"'\"'\\n'\"'\"');f.close();exec(compile(code, __file__, '\"'\"'exec'\"'\"'))' install --record /tmp/pip-record-n7hfvgtn/install-record.txt --single-version-externally-managed --compile --install-headers /usr/local/include/python3.7/functools Check the logs for full command output.\u001b[0m\n"
          ]
        }
      ]
    },
    {
      "cell_type": "code",
      "metadata": {
        "colab": {
          "base_uri": "https://localhost:8080/"
        },
        "id": "Zta29XvFs3Re",
        "outputId": "be84fb64-0f8c-498f-eb34-fd4b489ae31d"
      },
      "source": [
        "     \n",
        "     \n",
        "     \n",
        "        from functools import reduce\n",
        "num=list(range(41,50, 2))\n",
        "print(num)\n",
        "reduce(lambda x,y:x*y, num)"
      ],
      "execution_count": null,
      "outputs": [
        {
          "output_type": "stream",
          "name": "stdout",
          "text": [
            "[41, 43, 45, 47, 49]\n"
          ]
        },
        {
          "output_type": "execute_result",
          "data": {
            "text/plain": [
              "182708505"
            ]
          },
          "metadata": {},
          "execution_count": 8
        }
      ]
    },
    {
      "cell_type": "code",
      "metadata": {
        "colab": {
          "base_uri": "https://localhost:8080/"
        },
        "id": "XC_UaDe1ei4T",
        "outputId": "6fff3a0a-cf89-4ebe-de1b-f80be8f29ea9"
      },
      "source": [
        "reduce(lambda j,k: j+k, num)"
      ],
      "execution_count": null,
      "outputs": [
        {
          "output_type": "execute_result",
          "data": {
            "text/plain": [
              "225"
            ]
          },
          "metadata": {
            "tags": []
          },
          "execution_count": 30
        }
      ]
    },
    {
      "cell_type": "code",
      "metadata": {
        "colab": {
          "base_uri": "https://localhost:8080/"
        },
        "id": "KXsOtKsPe0Ru",
        "outputId": "8273744e-9d8b-4726-b0f8-6349b79aa59c"
      },
      "source": [
        "n=list(range(10,200, 10))\n",
        "# print(n)\n",
        "reduce(lambda a,b: a+b, n)"
      ],
      "execution_count": null,
      "outputs": [
        {
          "output_type": "execute_result",
          "data": {
            "text/plain": [
              "1900"
            ]
          },
          "metadata": {
            "tags": []
          },
          "execution_count": 34
        }
      ]
    },
    {
      "cell_type": "code",
      "metadata": {
        "colab": {
          "base_uri": "https://localhost:8080/"
        },
        "id": "LQaLqeCAPcla",
        "outputId": "863ef06d-41dd-4cd2-efe7-acb208885171"
      },
      "source": [
        "reduce(lambda x, y: x+y, range(1,101)) #Calculating the sum of the numbers from 1 to 100:"
      ],
      "execution_count": null,
      "outputs": [
        {
          "output_type": "execute_result",
          "data": {
            "text/plain": [
              "5050"
            ]
          },
          "metadata": {
            "tags": []
          },
          "execution_count": 42
        }
      ]
    },
    {
      "cell_type": "code",
      "metadata": {
        "colab": {
          "base_uri": "https://localhost:8080/"
        },
        "id": "WK_7Xykssiq_",
        "outputId": "3857846f-cd2d-42ef-a55b-a2b42b6460d0"
      },
      "source": [
        "addition = reduce((lambda m, n: m + n), [10, 20, 30, 40])\n",
        "addition"
      ],
      "execution_count": null,
      "outputs": [
        {
          "output_type": "execute_result",
          "data": {
            "text/plain": [
              "100"
            ]
          },
          "metadata": {
            "tags": []
          },
          "execution_count": 22
        }
      ]
    },
    {
      "cell_type": "code",
      "metadata": {
        "colab": {
          "base_uri": "https://localhost:8080/"
        },
        "id": "f88iS3e7D-NH",
        "outputId": "721ef9db-126d-4208-dc04-57ac343fdcd3"
      },
      "source": [
        "my_numbers = [4, 6, 9, 23, 5]\n",
        "reduce_result = reduce(lambda num1, num2: num1 * num2, my_numbers)\n",
        "print(reduce_result)"
      ],
      "execution_count": null,
      "outputs": [
        {
          "output_type": "stream",
          "text": [
            "24840\n"
          ],
          "name": "stdout"
        }
      ]
    },
    {
      "cell_type": "code",
      "metadata": {
        "id": "NgHq1q8MJN8r"
      },
      "source": [
        ""
      ],
      "execution_count": null,
      "outputs": []
    },
    {
      "cell_type": "markdown",
      "metadata": {
        "id": "SxahBshmfW1P"
      },
      "source": [
        "**Using a reduce() find a product of values in range of 30 and 45 with an interval of 5**"
      ]
    },
    {
      "cell_type": "code",
      "metadata": {
        "id": "2DiCJdyUfqJM"
      },
      "source": [
        ""
      ],
      "execution_count": null,
      "outputs": []
    }
  ]
}